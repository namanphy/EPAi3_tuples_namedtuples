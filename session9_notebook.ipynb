{
 "cells": [
  {
   "cell_type": "code",
   "execution_count": 146,
   "metadata": {},
   "outputs": [],
   "source": [
    "%config IPCompleter.greedy=True"
   ]
  },
  {
   "cell_type": "code",
   "execution_count": 147,
   "metadata": {},
   "outputs": [],
   "source": [
    "import collections\n",
    "from datetime import date\n",
    "from dateutil.relativedelta import *\n",
    "from faker import Faker\n",
    "from collections import namedtuple, Counter\n",
    "from time import perf_counter\n",
    "from functools import wraps\n",
    "from random import shuffle, seed, randint, uniform, choice, sample\n",
    "from faker.providers.company import Provider"
   ]
  },
  {
   "cell_type": "code",
   "execution_count": 148,
   "metadata": {},
   "outputs": [],
   "source": [
    "Faker.seed(1)\n",
    "fake = Faker()"
   ]
  },
  {
   "cell_type": "code",
   "execution_count": 149,
   "metadata": {},
   "outputs": [],
   "source": [
    "def get_fake_profiles(type: str, count: int):\n",
    "    '''\n",
    "\tit has two parameter:\n",
    "\t   1) type - dict , namedtuple\n",
    "\t   2) count - no. of fake profiles\n",
    "\tIn this function we will create a count number of fake profile with there respective type\n",
    "    '''\n",
    "    fake_profiles = []\n",
    "    if type == 'namedtuple':\n",
    "        profile = namedtuple('Profile', ['job', 'company', 'ssn', 'residence', 'current_location',\n",
    "                                         'blood_group', 'website', 'username', 'name', 'sex', 'address', 'mail', 'birthdate'])\n",
    "        for i in range(count):\n",
    "            fake_profiles.append(profile(**fake.profile()))\n",
    "    elif type == 'dict':\n",
    "        for i in range(count):\n",
    "            fake_profiles.append(fake.profile())\n",
    "    return fake_profiles\n",
    "\n",
    "\n",
    "def get_largest_blood_group(collection: list, type: str):\n",
    "    '''\n",
    "\tthis funtion also have two parameter:\n",
    "\t   1) collection - collection of fake profiles\n",
    "\t   2) type - dict , namedtuple\n",
    "\tthis basically return the most common blood group with count\n",
    "    '''\n",
    "    bg_counts = None\n",
    "    if type == 'namedtuple':\n",
    "        bg_counts = Counter(p.blood_group for p in collection)\n",
    "    elif type == 'dict':\n",
    "        bg_counts = Counter(p['blood_group'] for p in collection)\n",
    "    return bg_counts.most_common()[0]\n",
    "\n",
    "\n",
    "def get_oldest_birthdate(collection: list, type: str):\n",
    "    '''\n",
    "\tthis funtion also have two parameter:\n",
    "\t   1) collection - collection of fake profiles\n",
    "\t   2) type - dict , namedtuple\n",
    "\tthis basically return the oldest birthday amoung the given collection\n",
    "    '''\n",
    "    oldest_birthdate = None\n",
    "    if type == 'namedtuple':\n",
    "        oldest_birthdate = min(\n",
    "            collection, key=lambda a: a.birthdate).birthdate\n",
    "    elif type == 'dict':\n",
    "        oldest_birthdate = min(\n",
    "            collection, key=lambda a: a['birthdate'])['birthdate']\n",
    "    return oldest_birthdate\n",
    "\n",
    "\n",
    "def get_average_age(collection: list, type: str):\n",
    "    '''\n",
    "\tthis funtion also have two parameter:\n",
    "\t   1) collection - collection of fake profiles\n",
    "\t   2) type - dict , namedtuple\n",
    "\tthis basically return the average age amoung the given collection\n",
    "    '''\n",
    "\n",
    "    if type == 'namedtuple':\n",
    "        return sum([relativedelta(date.today(), a.birthdate).years for a in collection])/len(collection)\n",
    "    elif type == 'dict':\n",
    "        return sum([relativedelta(date.today(), a['birthdate']).years for a in collection])/len(collection)"
   ]
  },
  {
   "cell_type": "code",
   "execution_count": 150,
   "metadata": {},
   "outputs": [],
   "source": [
    "NO_OF_PROFILES = 10000\n",
    "fake_profiles = get_fake_profiles('namedtuple', NO_OF_PROFILES)\n",
    "fake_profiles_dict = get_fake_profiles('dict', NO_OF_PROFILES)"
   ]
  },
  {
   "cell_type": "code",
   "execution_count": null,
   "metadata": {},
   "outputs": [],
   "source": []
  },
  {
   "cell_type": "code",
   "execution_count": 151,
   "metadata": {
    "scrolled": true
   },
   "outputs": [
    {
     "name": "stdout",
     "output_type": "stream",
     "text": [
      "testing: get_largest_blood_group\n",
      "dict is faster\n",
      "testing: get_oldest_birthdate\n",
      "dict is faster\n",
      "testing: get_average_age\n",
      "named tuple is faster\n"
     ]
    }
   ],
   "source": [
    "def get_average_time(n, func, *args, **kwargs):\n",
    "    '''\n",
    "    this basically return the running time of the given function upto n times\n",
    "    '''\n",
    "    start = perf_counter()\n",
    "    for _ in range(n):\n",
    "        value = func(*args, **kwargs)\n",
    "    avg_run_time = (perf_counter() - start)/n\n",
    "    return avg_run_time\n",
    "\n",
    "\n",
    "N = 1000\n",
    "for f in [get_largest_blood_group, get_oldest_birthdate, get_average_age]:\n",
    "    print('testing:', f.__name__)\n",
    "    t1 = get_average_time(N, f, fake_profiles, 'namedtuple')\n",
    "    t2 = get_average_time(N, f, fake_profiles_dict, 'dict')\n",
    "\n",
    "    if t1 < t2:\n",
    "        print('dict is faster')\n",
    "    else:\n",
    "        print('named tuple is faster')"
   ]
  },
  {
   "cell_type": "code",
   "execution_count": null,
   "metadata": {},
   "outputs": [],
   "source": []
  },
  {
   "cell_type": "code",
   "execution_count": 152,
   "metadata": {},
   "outputs": [],
   "source": [
    "def get_company_stock(volatility,direction): \n",
    "    '''\n",
    "    this function basically create fake company stocks\n",
    "    '''  \n",
    "    name = fake.unique.company()\n",
    "    symbol = name[0:3].upper()+name[-3:].upper()\n",
    "    open = round( uniform(10,1000),2)\n",
    "    if direction == '-ve':\n",
    "        volatility *= -1\n",
    "    close =  round(open + (open * volatility * 0.2),2)\n",
    "    high = close = round(open + (open * volatility * 0.5),2)\n",
    "    low = close = round(open - (open * volatility * 0.5),2)\n",
    "    return name, symbol, open, low,high, close"
   ]
  },
  {
   "cell_type": "code",
   "execution_count": 153,
   "metadata": {},
   "outputs": [],
   "source": [
    "weights = sample(range(1,200),100)"
   ]
  },
  {
   "cell_type": "code",
   "execution_count": 154,
   "metadata": {},
   "outputs": [],
   "source": [
    "stock_list = [company_stck(*get_company_stock(volatility = uniform(.02, .2),direction=choice(['+ve','-ve'])),w) for w in weights]\n"
   ]
  },
  {
   "cell_type": "code",
   "execution_count": 155,
   "metadata": {},
   "outputs": [
    {
     "data": {
      "text/plain": [
       "[Company(name='Weaver Ltd', symbol='WEALTD', open=632.19, low=607.4, high=656.98, close=607.4, weight=88),\n",
       " Company(name='James, Graves and Phillips', symbol='JAMIPS', open=532.65, low=505.07, high=560.23, close=505.07, weight=35),\n",
       " Company(name='Johnson Group', symbol='JOHOUP', open=152.75, low=155.52, high=149.98, close=155.52, weight=191),\n",
       " Company(name='Carter Group', symbol='CAROUP', open=113.16, low=109.41, high=116.91, close=109.41, weight=185),\n",
       " Company(name='Lang Inc', symbol='LANINC', open=32.37, low=33.41, high=31.33, close=33.41, weight=93),\n",
       " Company(name='Price-Howard', symbol='PRIARD', open=369.64, low=394.58, high=344.7, close=394.58, weight=100),\n",
       " Company(name='Gomez Inc', symbol='GOMINC', open=128.23, low=125.97, high=130.49, close=125.97, weight=102),\n",
       " Company(name='Walsh, Anderson and Hill', symbol='WALILL', open=964.31, low=880.97, high=1047.65, close=880.97, weight=166),\n",
       " Company(name='Miller Group', symbol='MILOUP', open=775.04, low=736.83, high=813.25, close=736.83, weight=31),\n",
       " Company(name='Hayes, Hanson and Underwood', symbol='HAYOOD', open=975.0, low=1012.96, high=937.04, close=1012.96, weight=40),\n",
       " Company(name='Smith, Gomez and Moore', symbol='SMIORE', open=422.24, low=448.32, high=396.16, close=448.32, weight=101),\n",
       " Company(name='Cruz PLC', symbol='CRUPLC', open=868.63, low=806.81, high=930.45, close=806.81, weight=134),\n",
       " Company(name='Stark Ltd', symbol='STALTD', open=663.23, low=625.84, high=700.62, close=625.84, weight=33),\n",
       " Company(name='Hess-Webb', symbol='HESEBB', open=878.06, low=854.81, high=901.31, close=854.81, weight=5),\n",
       " Company(name='Morrison, Frank and Lee', symbol='MORLEE', open=169.0, low=179.17, high=158.83, close=179.17, weight=104),\n",
       " Company(name='Rodriguez Group', symbol='RODOUP', open=888.61, low=833.18, high=944.04, close=833.18, weight=151),\n",
       " Company(name='Flores and Sons', symbol='FLOONS', open=55.96, low=58.29, high=53.63, close=58.29, weight=21),\n",
       " Company(name='Harmon Group', symbol='HAROUP', open=982.66, low=941.58, high=1023.74, close=941.58, weight=141),\n",
       " Company(name='Hoover Ltd', symbol='HOOLTD', open=627.65, low=599.61, high=655.69, close=599.61, weight=92),\n",
       " Company(name='Li PLC', symbol='LI PLC', open=287.76, low=311.0, high=264.52, close=311.0, weight=46),\n",
       " Company(name='Clark-Smith', symbol='CLAITH', open=159.67, low=171.81, high=147.53, close=171.81, weight=61),\n",
       " Company(name='Ramirez-Reeves', symbol='RAMVES', open=207.87, low=201.65, high=214.09, close=201.65, weight=83),\n",
       " Company(name='Wilson Group', symbol='WILOUP', open=92.09, low=85.79, high=98.39, close=85.79, weight=41),\n",
       " Company(name='Gentry-Mack', symbol='GENACK', open=187.87, low=196.1, high=179.64, close=196.1, weight=1),\n",
       " Company(name='Moore-Tyler', symbol='MOOLER', open=12.56, low=11.68, high=13.44, close=11.68, weight=75),\n",
       " Company(name='Aguilar, Smith and Alexander', symbol='AGUDER', open=751.9, low=805.73, high=698.07, close=805.73, weight=39),\n",
       " Company(name='Wilson, Ellison and Clayton', symbol='WILTON', open=766.41, low=716.64, high=816.18, close=716.64, weight=68),\n",
       " Company(name='Santiago-Castaneda', symbol='SANEDA', open=409.55, low=441.23, high=377.87, close=441.23, weight=178),\n",
       " Company(name='Patel, Wright and Medina', symbol='PATINA', open=608.71, low=570.02, high=647.4, close=570.02, weight=89),\n",
       " Company(name='Rojas-Barnett', symbol='ROJETT', open=347.19, low=336.09, high=358.29, close=336.09, weight=112),\n",
       " Company(name='Jackson LLC', symbol='JACLLC', open=440.05, low=429.82, high=450.28, close=429.82, weight=158),\n",
       " Company(name='Whitehead Group', symbol='WHIOUP', open=907.2, low=945.2, high=869.2, close=945.2, weight=189),\n",
       " Company(name='Phillips LLC', symbol='PHILLC', open=920.69, low=977.76, high=863.62, close=977.76, weight=132),\n",
       " Company(name='Campbell-Garcia', symbol='CAMCIA', open=188.09, low=191.7, high=184.48, close=191.7, weight=26),\n",
       " Company(name='Summers Ltd', symbol='SUMLTD', open=414.94, low=449.09, high=380.79, close=449.09, weight=84),\n",
       " Company(name='Garcia, Blanchard and Meyer', symbol='GARYER', open=333.41, low=364.22, high=302.6, close=364.22, weight=34),\n",
       " Company(name='Davis-Bailey', symbol='DAVLEY', open=806.94, low=824.76, high=789.12, close=824.76, weight=38),\n",
       " Company(name='Potter-Cannon', symbol='POTNON', open=463.29, low=477.11, high=449.47, close=477.11, weight=107),\n",
       " Company(name='Ward and Sons', symbol='WARONS', open=685.94, low=726.3, high=645.58, close=726.3, weight=152),\n",
       " Company(name='Gaines, Clark and Dunn', symbol='GAIUNN', open=515.25, low=504.52, high=525.98, close=504.52, weight=147),\n",
       " Company(name='Martinez, Cannon and Conrad', symbol='MARRAD', open=229.8, low=252.23, high=207.37, close=252.23, weight=128),\n",
       " Company(name='Martinez, Skinner and Miles', symbol='MARLES', open=30.84, low=28.37, high=33.31, close=28.37, weight=32),\n",
       " Company(name='Chavez-Lopez', symbol='CHAPEZ', open=603.28, low=634.67, high=571.89, close=634.67, weight=50),\n",
       " Company(name='Taylor-Nash', symbol='TAYASH', open=390.25, low=419.79, high=360.71, close=419.79, weight=182),\n",
       " Company(name='Oneal and Sons', symbol='ONEONS', open=134.51, low=147.59, high=121.43, close=147.59, weight=192),\n",
       " Company(name='Ramirez-Wilson', symbol='RAMSON', open=385.74, low=423.36, high=348.12, close=423.36, weight=20),\n",
       " Company(name='Davis LLC', symbol='DAVLLC', open=406.95, low=420.25, high=393.65, close=420.25, weight=137),\n",
       " Company(name='Martin, Gardner and Garcia', symbol='MARCIA', open=202.18, low=183.87, high=220.49, close=183.87, weight=82),\n",
       " Company(name='Sandoval-Evans', symbol='SANANS', open=641.91, low=589.14, high=694.68, close=589.14, weight=43),\n",
       " Company(name='King PLC', symbol='KINPLC', open=78.63, low=84.26, high=73.0, close=84.26, weight=118),\n",
       " Company(name='Callahan LLC', symbol='CALLLC', open=808.36, low=845.32, high=771.4, close=845.32, weight=51),\n",
       " Company(name='Boyd, Rivera and Nicholson', symbol='BOYSON', open=567.12, low=581.36, high=552.88, close=581.36, weight=78),\n",
       " Company(name='Turner-Burke', symbol='TURRKE', open=288.7, low=314.17, high=263.23, close=314.17, weight=164),\n",
       " Company(name='Hughes, Jones and Peterson', symbol='HUGSON', open=256.19, low=244.7, high=267.68, close=244.7, weight=49),\n",
       " Company(name='Walters-Perkins', symbol='WALINS', open=685.37, low=734.06, high=636.68, close=734.06, weight=91),\n",
       " Company(name='Fox Inc', symbol='FOXINC', open=212.52, low=206.24, high=218.8, close=206.24, weight=60),\n",
       " Company(name='Atkinson, Orozco and Martin', symbol='ATKTIN', open=499.03, low=452.69, high=545.37, close=452.69, weight=86),\n",
       " Company(name='Hays-Johnson', symbol='HAYSON', open=297.24, low=322.21, high=272.27, close=322.21, weight=174),\n",
       " Company(name='Yates-Kirby', symbol='YATRBY', open=301.39, low=311.37, high=291.41, close=311.37, weight=172),\n",
       " Company(name='Parks-Harris', symbol='PARRIS', open=924.97, low=841.42, high=1008.52, close=841.42, weight=169),\n",
       " Company(name='Rogers-Edwards', symbol='ROGRDS', open=911.66, low=973.34, high=849.98, close=973.34, weight=133),\n",
       " Company(name='Griffin Ltd', symbol='GRILTD', open=932.5, low=1025.4, high=839.6, close=1025.4, weight=127),\n",
       " Company(name='Malone, Perez and Becker', symbol='MALKER', open=279.23, low=264.46, high=294.0, close=264.46, weight=76),\n",
       " Company(name='Davis Inc', symbol='DAVINC', open=361.88, low=389.96, high=333.8, close=389.96, weight=55),\n",
       " Company(name='Johnson LLC', symbol='JOHLLC', open=413.64, low=437.71, high=389.57, close=437.71, weight=199),\n",
       " Company(name='Price-Warner', symbol='PRINER', open=531.95, low=543.54, high=520.36, close=543.54, weight=52),\n",
       " Company(name='Wilkinson, Young and Beltran', symbol='WILRAN', open=130.44, low=136.58, high=124.3, close=136.58, weight=69),\n",
       " Company(name='Marshall, Dalton and Allen', symbol='MARLEN', open=677.06, low=726.66, high=627.46, close=726.66, weight=105),\n",
       " Company(name='Liu Group', symbol='LIUOUP', open=863.95, low=946.41, high=781.49, close=946.41, weight=73),\n",
       " Company(name='Lynn-Roberson', symbol='LYNSON', open=69.78, low=65.72, high=73.84, close=65.72, weight=23),\n",
       " Company(name='Jacobson, Walker and Hardy', symbol='JACRDY', open=736.74, low=757.95, high=715.53, close=757.95, weight=180),\n",
       " Company(name='Roberts, Duarte and Silva', symbol='ROBLVA', open=690.71, low=673.17, high=708.25, close=673.17, weight=123),\n",
       " Company(name='Lambert, Villegas and Williams', symbol='LAMAMS', open=344.23, low=328.31, high=360.15, close=328.31, weight=64),\n",
       " Company(name='Knox Inc', symbol='KNOINC', open=928.33, low=1017.51, high=839.15, close=1017.51, weight=63),\n",
       " Company(name='Diaz-Brown', symbol='DIAOWN', open=579.16, low=571.83, high=586.49, close=571.83, weight=193),\n",
       " Company(name='Barnes LLC', symbol='BARLLC', open=257.06, low=271.75, high=242.37, close=271.75, weight=186),\n",
       " Company(name='Frost, May and Cummings', symbol='FRONGS', open=747.41, low=773.22, high=721.6, close=773.22, weight=24),\n",
       " Company(name='Black-Gardner', symbol='BLANER', open=25.64, low=26.62, high=24.66, close=26.62, weight=28),\n",
       " Company(name='Mitchell, Wright and Bernard', symbol='MITARD', open=637.1, low=698.5, high=575.7, close=698.5, weight=95),\n",
       " Company(name='Moore Ltd', symbol='MOOLTD', open=867.89, low=797.96, high=937.82, close=797.96, weight=59),\n",
       " Company(name='Gonzalez, Rodriguez and Bennett', symbol='GONETT', open=461.79, low=429.93, high=493.65, close=429.93, weight=130),\n",
       " Company(name='Miles, Bowen and Ortega', symbol='MILEGA', open=239.88, low=227.82, high=251.94, close=227.82, weight=183),\n",
       " Company(name='Barber, Russo and Foster', symbol='BARTER', open=477.81, low=516.85, high=438.77, close=516.85, weight=54),\n",
       " Company(name='Cook, Ferrell and Eaton', symbol='COOTON', open=711.48, low=679.61, high=743.35, close=679.61, weight=22),\n",
       " Company(name='Sanders-Parker', symbol='SANKER', open=937.13, low=1027.62, high=846.64, close=1027.62, weight=97),\n",
       " Company(name='Welch and Sons', symbol='WELONS', open=44.23, low=42.0, high=46.46, close=42.0, weight=160),\n",
       " Company(name='Silva Inc', symbol='SILINC', open=159.55, low=145.51, high=173.59, close=145.51, weight=56),\n",
       " Company(name='Kline, Ford and Oneill', symbol='KLIILL', open=129.72, low=141.75, high=117.69, close=141.75, weight=90),\n",
       " Company(name='West-Randolph', symbol='WESLPH', open=842.84, low=866.54, high=819.14, close=866.54, weight=195),\n",
       " Company(name='Pruitt-Schmidt', symbol='PRUIDT', open=808.97, low=862.28, high=755.66, close=862.28, weight=106),\n",
       " Company(name='Fuller-Smith', symbol='FULITH', open=313.49, low=301.49, high=325.49, close=301.49, weight=121),\n",
       " Company(name='Carney Ltd', symbol='CARLTD', open=840.13, low=825.32, high=854.94, close=825.32, weight=165),\n",
       " Company(name='Rose and Sons', symbol='ROSONS', open=361.97, low=369.51, high=354.43, close=369.51, weight=17),\n",
       " Company(name='Conley, Hernandez and Sanchez', symbol='CONHEZ', open=842.57, low=904.21, high=780.93, close=904.21, weight=149),\n",
       " Company(name='Anderson Ltd', symbol='ANDLTD', open=831.81, low=799.77, high=863.85, close=799.77, weight=126),\n",
       " Company(name='Blake-Wilson', symbol='BLASON', open=373.75, low=401.35, high=346.15, close=401.35, weight=119),\n",
       " Company(name='Wells-Peterson', symbol='WELSON', open=707.01, low=638.53, high=775.49, close=638.53, weight=179),\n",
       " Company(name='King, Davis and Johnson', symbol='KINSON', open=935.71, low=867.33, high=1004.09, close=867.33, weight=146),\n",
       " Company(name='Johnson, Brown and Dennis', symbol='JOHNIS', open=338.43, low=311.77, high=365.09, close=311.77, weight=42),\n",
       " Company(name='Patton, Fisher and Walters', symbol='PATERS', open=267.08, low=247.09, high=287.07, close=247.09, weight=45)]"
      ]
     },
     "execution_count": 155,
     "metadata": {},
     "output_type": "execute_result"
    }
   ],
   "source": [
    "stock_list"
   ]
  },
  {
   "cell_type": "code",
   "execution_count": 156,
   "metadata": {},
   "outputs": [],
   "source": [
    "stock_list.sort(key = lambda a: a.weight)"
   ]
  },
  {
   "cell_type": "code",
   "execution_count": 157,
   "metadata": {},
   "outputs": [],
   "source": [
    "stock_market_open = sum([a.open for a in stock_list[:50]])\n",
    "stock_market_high = sum([a.high for a in stock_list[:50]])\n",
    "stock_market_close = sum([a.close for a in stock_list[:50]])"
   ]
  },
  {
   "cell_type": "code",
   "execution_count": 158,
   "metadata": {},
   "outputs": [
    {
     "name": "stdout",
     "output_type": "stream",
     "text": [
      "stock market opened at: 22447.309999999998\n",
      "stock market highest value was: 22367.46\n",
      "stock market closed at: 22527.160000000003\n"
     ]
    }
   ],
   "source": [
    "print('stock market opened at:',stock_market_open)\n",
    "print('stock market highest value was:',stock_market_high)\n",
    "print('stock market closed at:',stock_market_close)"
   ]
  },
  {
   "cell_type": "code",
   "execution_count": null,
   "metadata": {},
   "outputs": [],
   "source": []
  },
  {
   "cell_type": "code",
   "execution_count": null,
   "metadata": {},
   "outputs": [],
   "source": []
  }
 ],
 "metadata": {
  "kernelspec": {
   "display_name": "Python 3",
   "language": "python",
   "name": "python3"
  },
  "language_info": {
   "codemirror_mode": {
    "name": "ipython",
    "version": 3
   },
   "file_extension": ".py",
   "mimetype": "text/x-python",
   "name": "python",
   "nbconvert_exporter": "python",
   "pygments_lexer": "ipython3",
   "version": "3.7.1"
  }
 },
 "nbformat": 4,
 "nbformat_minor": 4
}
